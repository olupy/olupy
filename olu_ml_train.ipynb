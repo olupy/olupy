{
  "nbformat": 4,
  "nbformat_minor": 0,
  "metadata": {
    "colab": {
      "name": "olu_ml_train.ipynb",
      "provenance": [],
      "collapsed_sections": [],
      "authorship_tag": "ABX9TyMveN2pOUv0vMP47Li1kKK6",
      "include_colab_link": true
    },
    "kernelspec": {
      "name": "python3",
      "display_name": "Python 3"
    },
    "language_info": {
      "name": "python"
    }
  },
  "cells": [
    {
      "cell_type": "markdown",
      "metadata": {
        "id": "view-in-github",
        "colab_type": "text"
      },
      "source": [
        "<a href=\"https://colab.research.google.com/github/olupy/olupy/blob/main/olu_ml_train.ipynb\" target=\"_parent\"><img src=\"https://colab.research.google.com/assets/colab-badge.svg\" alt=\"Open In Colab\"/></a>"
      ]
    },
    {
      "cell_type": "code",
      "source": [
        "import tensorflow as tf\n",
        "#import dependencies"
      ],
      "metadata": {
        "id": "akL8KJTWvx3l"
      },
      "execution_count": 1,
      "outputs": []
    },
    {
      "cell_type": "code",
      "source": [
        "import numpy as np\n",
        "import logging\n",
        "logger = tf.get_logger()\n",
        "logger.setLevel(logging.ERROR)"
      ],
      "metadata": {
        "id": "KtwX9j4jE15I"
      },
      "execution_count": 2,
      "outputs": []
    },
    {
      "cell_type": "code",
      "source": [
        "celsius_q    = np.array([-40, -10,  0,  8, 15, 22,  38],  dtype=float)\n",
        "fahrenheit_a = np.array([-40,  14, 32, 46, 59, 72, 100],  dtype=float)\n",
        "for i, c in enumerate(celsius_q):\n",
        "  print(\"{} degrees celsius = {} degree fahrenheit\". format(c,fahrenheit_a[i]))"
      ],
      "metadata": {
        "colab": {
          "base_uri": "https://localhost:8080/"
        },
        "id": "xrN5su5IFt7p",
        "outputId": "95c5c969-6ce5-4d40-c4aa-b0249ce782d6"
      },
      "execution_count": 3,
      "outputs": [
        {
          "output_type": "stream",
          "name": "stdout",
          "text": [
            "-40.0 degrees celsius = -40.0 degree fahrenheit\n",
            "-10.0 degrees celsius = 14.0 degree fahrenheit\n",
            "0.0 degrees celsius = 32.0 degree fahrenheit\n",
            "8.0 degrees celsius = 46.0 degree fahrenheit\n",
            "15.0 degrees celsius = 59.0 degree fahrenheit\n",
            "22.0 degrees celsius = 72.0 degree fahrenheit\n",
            "38.0 degrees celsius = 100.0 degree fahrenheit\n"
          ]
        }
      ]
    },
    {
      "cell_type": "markdown",
      "source": [
        "# New Section"
      ],
      "metadata": {
        "id": "9oqJvTTSH7Se"
      }
    },
    {
      "cell_type": "code",
      "source": [
        "#create the model and build a layer"
      ],
      "metadata": {
        "id": "nm9S8soXIBhm"
      },
      "execution_count": null,
      "outputs": []
    },
    {
      "cell_type": "code",
      "source": [
        "l0 = tf.keras.layers.Dense(units = i, input_shape= [1])"
      ],
      "metadata": {
        "id": "XAJ3xfcMGm8X"
      },
      "execution_count": 4,
      "outputs": []
    },
    {
      "cell_type": "code",
      "source": [
        "# assemble the layer into the model"
      ],
      "metadata": {
        "id": "BhHwy9VrI3LZ"
      },
      "execution_count": 5,
      "outputs": []
    },
    {
      "cell_type": "code",
      "source": [
        "model =tf.keras.Sequential([l0]) "
      ],
      "metadata": {
        "id": "Grll2__aIAPf"
      },
      "execution_count": 9,
      "outputs": []
    },
    {
      "cell_type": "code",
      "source": [
        "model.compile(loss='mean_squared_error',\n",
        "              optimizer = tf.keras.optimizers.Adam(0.1))\n",
        "#we train the model\n",
        "history = model.fit(celsius_q, fahrenheit_a, epochs= 500, verbose = False)\n",
        "print(\"model training done successfully\")"
      ],
      "metadata": {
        "colab": {
          "base_uri": "https://localhost:8080/"
        },
        "id": "Zb_T9rViJBpA",
        "outputId": "73cbca66-a5b5-4058-848c-3797a21dec53"
      },
      "execution_count": 11,
      "outputs": [
        {
          "output_type": "stream",
          "name": "stdout",
          "text": [
            "model training done successfully\n"
          ]
        }
      ]
    },
    {
      "cell_type": "code",
      "source": [
        "#visualizing the training statistics\n",
        "import matplotlib.pyplot as plt\n",
        "plt.xlabel('Epoch Number')\n",
        "plt.ylabel(\"Loss Magnitude\")\n",
        "plt.plot(history.history['loss'])"
      ],
      "metadata": {
        "colab": {
          "base_uri": "https://localhost:8080/",
          "height": 296
        },
        "id": "Gy9Lrr51LJJb",
        "outputId": "0d4511d7-d13a-4eb1-890c-ce4d69b6118b"
      },
      "execution_count": 12,
      "outputs": [
        {
          "output_type": "execute_result",
          "data": {
            "text/plain": [
              "[<matplotlib.lines.Line2D at 0x7fb41bac0450>]"
            ]
          },
          "metadata": {},
          "execution_count": 12
        },
        {
          "output_type": "display_data",
          "data": {
            "text/plain": [
              "<Figure size 432x288 with 1 Axes>"
            ],
            "image/png": "[encoded data removed]"
          },
          "metadata": {
            "needs_background": "light"
          }
        }
      ]
    },
    {
      "cell_type": "code",
      "source": [
        "print(model.predict([32.0,23]))"
      ],
      "metadata": {
        "colab": {
          "base_uri": "https://localhost:8080/"
        },
        "id": "1092HK1MMPjC",
        "outputId": "f2534011-596e-4672-843d-7cf5ded6433a"
      },
      "execution_count": 17,
      "outputs": [
        {
          "output_type": "stream",
          "name": "stdout",
          "text": [
            "[[87.35741  87.21713  87.27638  87.369354 87.291275 87.37729 ]\n",
            " [70.950554 70.793594 70.85989  70.96391  70.87656  70.97279 ]]\n"
          ]
        }
      ]
    },
    {
      "cell_type": "code",
      "source": [
        "print(\"These are the layer variables: {}\".format(l0.get_weights()))"
      ],
      "metadata": {
        "colab": {
          "base_uri": "https://localhost:8080/"
        },
        "id": "mKtnjUd8MfPF",
        "outputId": "b43ba19e-31e4-46d7-a417-588bb5fe8165"
      },
      "execution_count": 16,
      "outputs": [
        {
          "output_type": "stream",
          "name": "stdout",
          "text": [
            "These are the layer variables: [array([[1.8229841, 1.8248378, 1.8240544, 1.8228265, 1.8238571, 1.8227214]],\n",
            "      dtype=float32), array([29.02192 , 28.822327, 28.90664 , 29.038904, 28.927847, 29.050205],\n",
            "      dtype=float32)]\n"
          ]
        }
      ]
    },
    {
      "cell_type": "code",
      "source": [
        ""
      ],
      "metadata": {
        "id": "CoERqBW-MzZY"
      },
      "execution_count": null,
      "outputs": []
    }
  ]
}